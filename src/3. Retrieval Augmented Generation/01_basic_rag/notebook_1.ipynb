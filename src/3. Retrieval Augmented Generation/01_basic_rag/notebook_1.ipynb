{
 "cells": [
  {
   "cell_type": "markdown",
   "id": "a919e716",
   "metadata": {},
   "source": [
    "# Basic RAG"
   ]
  },
  {
   "cell_type": "code",
   "execution_count": 8,
   "id": "e992241b",
   "metadata": {},
   "outputs": [
    {
     "data": {
      "text/plain": [
       "True"
      ]
     },
     "execution_count": 8,
     "metadata": {},
     "output_type": "execute_result"
    }
   ],
   "source": [
    "from langchain_community.document_loaders import DirectoryLoader\n",
    "from langchain_openai import AzureChatOpenAI, AzureOpenAIEmbeddings\n",
    "from langchain_core.vectorstores import InMemoryVectorStore\n",
    "from langchain_core.prompts import ChatPromptTemplate\n",
    "from langchain_core.runnables import RunnablePassthrough\n",
    "from langchain_core.output_parsers import StrOutputParser\n",
    "\n",
    "from dotenv import load_dotenv\n",
    "load_dotenv(override=True)"
   ]
  },
  {
   "cell_type": "code",
   "execution_count": 4,
   "id": "90f1d7d3",
   "metadata": {},
   "outputs": [
    {
     "name": "stdout",
     "output_type": "stream",
     "text": [
      "Loading documents...\n",
      "Loaded 5 documents\n"
     ]
    }
   ],
   "source": [
    "# 1. Load documents\n",
    "print(\"Loading documents...\")\n",
    "loader = DirectoryLoader(\"data/scientists_bios\")\n",
    "docs = loader.load()\n",
    "print(f\"Loaded {len(docs)} documents\")"
   ]
  },
  {
   "cell_type": "code",
   "execution_count": 5,
   "id": "daa40e4a",
   "metadata": {},
   "outputs": [
    {
     "data": {
      "text/plain": [
       "[Document(metadata={'source': 'data/scientists_bios/Ada Lovelace.txt'}, page_content='# Ada Lovelace (1815\\n\\n1852)\\n\\nAugusta Ada King, Countess of Lovelace (née Byron), was an English mathematician and writer, chiefly known for her work on Charles Babbage\\'s proposed mechanical general-purpose computer, the Analytical Engine. She is often regarded as the world\\'s first computer programmer, having published the first algorithm intended to be processed by a machine.\\n\\n## Early Life and Education\\n\\nAda Lovelace was born on December 10, 1815, in London, England. She was the only legitimate child of the poet Lord Byron and his wife Anne Isabella Milbanke, a mathematically inclined heiress and philanthropist. Ada\\'s parents separated when she was just one month old, and she never met her father, who died in Greece when she was eight years old.\\n\\nAda\\'s mother, determined that her daughter would not develop the \"insanity\" or poetic temperament of Byron, ensured Ada received a rigorous education focused on mathematics and science, which was unusual for women in the 19th century. Her tutors included Mary Somerville, a Scottish astronomer and mathematician, and Augustus De Morgan, a professor of mathematics at the University of London.\\n\\n## Collaboration with Charles Babbage\\n\\nIn 1833, at the age of 17, Ada was introduced to Charles Babbage at a social event. Babbage had already designed a mechanical calculator called the Difference Engine and was working on a more complex machine, the Analytical Engine. Lovelace was deeply intrigued by Babbage\\'s work.\\n\\nIn 1842-43, Lovelace translated an Italian article about Babbage\\'s Analytical Engine written by Luigi Menabrea, a young Italian engineer. At Babbage\\'s suggestion, she added her own extensive notes to the translation, which ended up being three times longer than the original article.\\n\\n## The First Computer Program\\n\\nIn her notes, Lovelace described how codes could be created for the Analytical Engine to handle letters and symbols as well as numbers. Most significantly, she published an algorithm for the Analytical Engine to compute Bernoulli numbers, which is considered the first published computer program.\\n\\nLovelace\\'s notes also included visionary insights about the potential of computing machines. She speculated that such devices could be used to create music, produce graphics, and have applications beyond pure calculation, concepts that wouldn\\'t be realized for another century.\\n\\n## Personal Life\\n\\nIn 1835, Ada married William King, who became the Earl of Lovelace three years later, giving Ada the title of Countess of Lovelace. They had three children together: Byron, Anne Isabella, and Ralph Gordon.\\n\\nThroughout her adult life, Lovelace struggled with health issues and developed dependencies on opium and morphine prescribed for her ailments. She also had interests in what she termed \"poetical science,\" seeking to integrate intuition and imagination with mathematics and science.\\n\\n## Legacy and Death\\n\\nAda Lovelace died at the young age of 36 on November 27, 1852, from uterine cancer. She was buried, at her request, next to her father at the Church of St. Mary Magdalene in Hucknall, Nottinghamshire.\\n\\nFor nearly a century after her death, Lovelace\\'s contributions were largely forgotten. However, in the mid-20th century, her notes on the Analytical Engine were republished, and her pioneering role in computing was recognized. Today, Ada Lovelace is celebrated as a visionary in computer science and as a symbol for women in technology.\\n\\nAda Lovelace Day, established in 2009, is an international celebration of the achievements of women in science, technology, engineering, and mathematics (STEM). The programming language Ada, created by the U.S. Department of Defense, was named after her in recognition of her early contributions to computing.'),\n",
       " Document(metadata={'source': 'data/scientists_bios/Albert Einstein.txt'}, page_content=\"# Albert Einstein (1879\\n\\n1955)\\n\\nAlbert Einstein was a German-born theoretical physicist who developed the theory of relativity, one of the two pillars of modern physics (alongside quantum mechanics). Born on March 14, 1879, in Ulm, Germany, Einstein is widely acknowledged as one of the greatest physicists of all time.\\n\\n## Key Contributions\\n\\n**Theory of Relativity\\n\\n**: In 1905, Einstein published his special theory of relativity, and expanded it to his general theory of relativity in 1915. These theories revolutionized our understanding of space, time, gravity, and the universe.\\n\\n**Mass\\n\\nEnergy Equivalence\\n\\n**: Formulated the famous equation E=mc², which demonstrates the relationship between mass and energy.\\n\\n**Photoelectric Effect\\n\\n**: Explained the photoelectric effect in 1905, proposing that light consists of discrete quantized packets (photons), which contributed significantly to quantum theory and earned him the 1921 Nobel Prize in Physics.\\n\\n**Brownian Motion\\n\\n**: Provided empirical evidence for the existence of atoms through his work on Brownian motion.\\n\\n## Personal Life\\n\\nEinstein was born to a Jewish family but was not religiously observant. He attended school in Munich and later in Switzerland, where he graduated from the Swiss Federal Polytechnic in Zurich in 1900. After struggling to find academic employment, he worked at the Swiss Patent Office while pursuing his research.\\n\\nEinstein married twice, first to Mileva Marić, with whom he had three children, and later to his cousin Elsa Löwenthal. His personal letters revealed complex relationships and the challenges of balancing family life with scientific pursuit.\\n\\n## Later Years and Legacy\\n\\nIn 1933, while visiting the United States, Einstein decided not to return to Germany due to the rise of the Nazi party. He accepted a position at the Institute for Advanced Study in Princeton, New Jersey, where he worked until his death.\\n\\nDespite being a pacifist, Einstein famously wrote to President Roosevelt warning about the possibility of Germany developing atomic weapons, which influenced the creation of the Manhattan Project. However, he later advocated for nuclear disarmament and international cooperation.\\n\\nEinstein died on April 18, 1955, in Princeton, New Jersey. His brain was preserved for scientific study. Beyond his scientific contributions, Einstein's name has become synonymous with genius. His disheveled appearance, humanitarian outlook, and quotable wisdom have made him an iconic figure in popular culture.\\n\\nHis work continues to influence physics research, and his theories have been repeatedly confirmed through numerous experimental tests. The discovery of gravitational waves in 2015, a century after Einstein predicted them, stands as a testament to his extraordinary scientific vision.\"),\n",
       " Document(metadata={'source': 'data/scientists_bios/Isaac Newton.txt'}, page_content='# Isaac Newton (1642\\n\\n1727)\\n\\nSir Isaac Newton was an English mathematician, physicist, astronomer, theologian, and author widely recognized as one of the most influential scientists of all time and a key figure in the scientific revolution. His book \"Philosophiæ Naturalis Principia Mathematica\" (Mathematical Principles of Natural Philosophy), first published in 1687, laid the foundations of classical mechanics.\\n\\n## Early Life and Education\\n\\nNewton was born on January 4, 1643 (December 25, 1642, Old Style) in Woolsthorpe-by-Colsterworth, a hamlet in Lincolnshire, England. He was born prematurely and was a small child; his mother Hannah Ayscough reportedly said that he could have fit inside a quart mug. When Newton was three, his mother remarried and went to live with her new husband, leaving Newton in the care of his maternal grandmother.\\n\\nNewton attended The King\\'s School in Grantham, where he became the top-ranked student. In June 1661, he was admitted to Trinity College, Cambridge, where he studied the standard curriculum but was fascinated by advanced science and mathematics. In 1665, he received his bachelor\\'s degree. When the Great Plague forced Cambridge to close, Newton returned home and during this period developed his theories on calculus, optics, and the law of gravitation.\\n\\n## Scientific Achievements\\n\\n**Laws of Motion\\n\\n**: Newton\\'s three laws of motion form the basic principles of modern physics.\\n\\n**Universal Gravitation\\n\\n**: Newton formulated the law of universal gravitation, explaining that all bodies in the universe attract each other with a force directly proportional to the product of their masses and inversely proportional to the square of the distance between them.\\n\\n**Calculus\\n\\n**: Independently developed calculus as a mathematical tool to explain the changing world, though controversy exists over whether Gottfried Wilhelm Leibniz developed it independently around the same time.\\n\\n**Optics\\n\\n**: Discovered that white light is composed of a spectrum of colors and invented the reflecting telescope.\\n\\n**Mathematics\\n\\n**: Made contributions to power series, generalized the binomial theorem, and developed a method for approximating the roots of a function.\\n\\n## Later Life and Positions\\n\\nIn 1669, Newton became the Lucasian Professor of Mathematics at Cambridge. In his later years, he served as Warden and then Master of the Royal Mint, and as President of the Royal Society. He was knighted by Queen Anne in 1705, becoming the second scientist to be knighted.\\n\\n## Personal Life and Character\\n\\nNewton never married and had no known romantic relationships. He was deeply religious, though his theological views were unorthodox and kept largely private. He devoted significant time to the study of alchemy and biblical chronology, areas that are less discussed in the context of his scientific legacy.\\n\\nKnown for his difficult personality, Newton engaged in bitter disputes with several contemporaries, most notably with Leibniz over the development of calculus. He suffered a nervous breakdown in 1693, which may have been due to chronic mercury poisoning from his alchemical research or exhaustion from overwork.\\n\\n## Legacy\\n\\nNewton died on March 31, 1727, in London and was buried in Westminster Abbey. His work unified the phenomena of earthly mechanics and celestial motion for the first time, establishing a framework for modern physics and astronomy that remained unchallenged until Einstein\\'s work in the early 20th century. Beyond his scientific work, Newton\\'s methodological approaches to investigation have profoundly influenced the way science is conducted to this day.'),\n",
       " Document(metadata={'source': 'data/scientists_bios/Charles Darwin.txt'}, page_content='# Charles Darwin (1809\\n\\n1882)\\n\\nCharles Robert Darwin was an English naturalist, geologist, and biologist, best known for his contributions to the science of evolution. His proposition that all species of life have descended from common ancestors is now widely accepted and considered a fundamental concept in science. Darwin published his theory of evolution with compelling evidence in his 1859 book \"On the Origin of Species.\"\\n\\n## Early Life and Education\\n\\nBorn on February 12, 1809, in Shrewsbury, England, Darwin came from a wealthy and influential family. His father Robert was a doctor, and his grandfather Erasmus Darwin was a renowned botanist. His mother, Susannah Darwin, died when he was only eight years old.\\n\\nDarwin initially attended the University of Edinburgh Medical School but found surgery distressing and lectures dull. In 1828, he transferred to Christ\\'s College, Cambridge, to study for a Bachelor of Arts degree, with the intention of becoming a clergyman. During his time at Cambridge, Darwin\\'s interest in natural history grew substantially under the mentorship of botany professor John Stevens Henslow.\\n\\n## The Voyage of the Beagle\\n\\nUpon Henslow\\'s recommendation, Darwin was offered a position as a naturalist aboard HMS Beagle, which embarked on a five-year survey expedition around the world in December 1831. This voyage would prove to be transformative for Darwin\\'s thinking and career.\\n\\nDuring the expedition, Darwin collected numerous specimens and made detailed observations of plants, animals, and geological formations across the globe. His observations of finches in the Galápagos Islands, variations in tortoises, and fossils of extinct animals in South America were particularly influential in shaping his ideas about species adaptation and natural selection.\\n\\n## Scientific Contributions\\n\\n**Theory of Evolution by Natural Selection\\n\\n**: Darwin\\'s most famous contribution was his theory that species evolve over generations through natural selection. He proposed that individuals with traits that help them adapt to their environment are more likely to survive and reproduce, passing these traits to offspring.\\n\\n**Sexual Selection\\n\\n**: Darwin extended his evolutionary theory to explain how certain traits evolved not for survival but for mating advantages.\\n\\n**Geological Works\\n\\n**: He made significant contributions to understanding coral reefs, volcanic islands, and the geology of South America.\\n\\n**Botanical Studies\\n\\n**: Later in life, Darwin conducted extensive research on plant movements and adaptations, including studies on climbing plants and insectivorous plants.\\n\\n## Personal Life\\n\\nIn 1839, Darwin married his first cousin Emma Wedgwood, with whom he had ten children. The Darwins moved to Down House in Kent in 1842, where Charles would live for the rest of his life. Darwin suffered from chronic illness throughout much of his adult life, which some speculate may have been Chagas disease contracted during the Beagle voyage, or possibly a psychosomatic condition.\\n\\nDarwin was aware that his evolutionary theory would be controversial, particularly in religious circles, and he delayed publishing it for many years. He was finally spurred to publish when Alfred Russel Wallace independently conceived a similar theory.\\n\\n## Legacy\\n\\nDarwin died on April 19, 1882, and was buried in Westminster Abbey, an honor reflecting his national status. His work fundamentally changed how we understand the natural world and our place in it. Darwin\\'s ideas have been applied far beyond biology, influencing fields such as psychology, economics, and computer science.\\n\\nThe concept of \"Darwinism\" has been extended beyond the scientific realm, sometimes controversially. However, the core of Darwin\\'s scientific legacy—evolution through natural selection—remains one of the most substantiated theories in modern science, supported by evidence from fields that didn\\'t exist in Darwin\\'s time, such as genetics and molecular biology.'),\n",
       " Document(metadata={'source': 'data/scientists_bios/Marie Sklodowska.txt'}, page_content=\"Marie Sklodowska - Curie (1867-1934) Marie Skłodowska Curie was a Polish and naturalized-French physicist and chemist who conducted pioneering research on radioactivity. She was the first woman to win a Nobel Prize, the first person and only woman to win the Nobel Prize twice, and the only person to win the Nobel Prize in two scientific fields.\\n\\nEarly Life and Education Born on November 7, 1867, in Warsaw, Poland (then part of the Russian Empire), Marie was the youngest of five children in a family that valued education despite financial difficulties. When Poland's universities wouldn't admit women, Marie and her sister Bronisława made an agreement to support each other's education. Marie worked as a governess to finance her sister's medical studies in Paris, with the understanding that her sister would later support her.\\n\\nIn 1891, Marie finally moved to Paris to study physics and mathematics at the University of Paris (Sorbonne). She completed her master's degree in physics in 1893 and earned another degree in mathematics the following year.\\n\\nScientific Achievements Discovery of Radioactivity: Working with her husband Pierre Curie, Marie discovered the elements polonium (named after her native Poland) and radium in 1898. Isolation of Radium: After Pierre's death, Marie succeeded in isolating radium in its pure metallic state in 1910. Mobile X-ray Units: During World War I, Marie developed mobile X-ray units to assist with treating wounded soldiers on the battlefield. Nobel Prizes 1903: Nobel Prize in Physics (shared with Pierre Curie and Henri Becquerel) for their work on radiation phenomena 1911: Nobel Prize in Chemistry for the discovery of the elements polonium and radium, and the isolation of radium Personal Life Marie married Pierre Curie, a fellow physicist, in 1895. They had two daughters, Irène (who also won a Nobel Prize in Chemistry with her husband) and Ève. After Pierre's accidental death in 1906, Marie took over his teaching position at the Sorbonne, becoming the first female professor there.\\n\\nLegacy and Death Marie Curie's work was crucial for the development of X-rays in surgery and cancer treatments. Despite her accomplishments, she faced significant gender discrimination throughout her career. She founded the Curie Institutes in Paris and Warsaw, which remain important centers of medical research today.\\n\\nUnaware of the dangers of radiation exposure, Marie carried test tubes of radioactive isotopes in her pockets and stored them in her desk drawer. The prolonged exposure to radiation caused her to develop aplastic anemia, leading to her death on July 4, 1934. Her papers from the 1890s are still so radioactive that they are kept in lead-lined boxes, and those who wish to view them must wear protective clothing.\\n\\nMarie Curie's life and work continue to inspire generations of scientists, particularly women in STEM fields. Her dedication to science, selfless nature, and determination in the face of adversity cement her as one of history's most influential scientists.\")]"
      ]
     },
     "execution_count": 5,
     "metadata": {},
     "output_type": "execute_result"
    }
   ],
   "source": [
    "docs"
   ]
  },
  {
   "cell_type": "code",
   "execution_count": 10,
   "id": "604fd2ff",
   "metadata": {},
   "outputs": [
    {
     "data": {
      "text/plain": [
       "['a5caca2c-96a7-403f-96e4-c3281b2d6c49',\n",
       " '3b975b7d-2ba8-4854-af46-13f41bbefca4',\n",
       " '60a2e532-e99c-4d21-bed9-bc07429accef',\n",
       " '00061b56-37cc-4191-a321-00074dc4f865',\n",
       " '838b370a-c84a-40ef-a951-8bb0402dbc66']"
      ]
     },
     "execution_count": 10,
     "metadata": {},
     "output_type": "execute_result"
    }
   ],
   "source": [
    "# 2. Create embeddings and vector store\n",
    "embeddings = AzureOpenAIEmbeddings(model=\"text-embedding-3-small\")\n",
    "vector_store = InMemoryVectorStore(embeddings)\n",
    "vector_store.add_documents(documents=docs)"
   ]
  },
  {
   "cell_type": "code",
   "execution_count": 13,
   "metadata": {},
   "outputs": [
    {
     "data": {
      "text/plain": [
       "dict_keys(['store', 'embedding'])"
      ]
     },
     "execution_count": 13,
     "metadata": {},
     "output_type": "execute_result"
    }
   ],
   "source": [
    "vector_store.__dict__.keys()"
   ]
  },
  {
   "cell_type": "code",
   "execution_count": 22,
   "id": "a960b470",
   "metadata": {},
   "outputs": [
    {
     "data": {
      "text/plain": [
       "dict_keys(['id', 'vector', 'text', 'metadata'])"
      ]
     },
     "execution_count": 22,
     "metadata": {},
     "output_type": "execute_result"
    }
   ],
   "source": [
    "vector_store.store[list(vector_store.store.keys())[0]].keys()"
   ]
  },
  {
   "cell_type": "code",
   "execution_count": 23,
   "id": "d6f297a7",
   "metadata": {},
   "outputs": [],
   "source": [
    "# 3. Create retriever\n",
    "retriever = vector_store.as_retriever()"
   ]
  },
  {
   "cell_type": "code",
   "execution_count": 24,
   "id": "6c920159",
   "metadata": {},
   "outputs": [],
   "source": [
    "# 4. Create LLM\n",
    "llm = AzureChatOpenAI(model=\"gpt-5-nano\")"
   ]
  },
  {
   "cell_type": "code",
   "execution_count": 25,
   "id": "ac248bae",
   "metadata": {},
   "outputs": [],
   "source": [
    "# 5. Create prompt template\n",
    "prompt = ChatPromptTemplate.from_template(\"\"\"\n",
    "You are an assistant for question-answering tasks.\n",
    "Use the following pieces of retrieved context to answer the question.\n",
    "If you don't know the answer, just say that you don't know.\n",
    "Use three sentences maximum and keep the answer concise.\n",
    "\n",
    "Question: {question}\n",
    "\n",
    "Context: {context}\n",
    "\n",
    "Answer:\n",
    "\"\"\")"
   ]
  },
  {
   "cell_type": "code",
   "execution_count": 26,
   "id": "96f5fe90",
   "metadata": {},
   "outputs": [],
   "source": [
    "# 6. Create RAG chain\n",
    "rag_chain = (\n",
    "    {\"context\": retriever, \"question\": RunnablePassthrough()}\n",
    "    | prompt\n",
    "    | llm\n",
    "    | StrOutputParser()\n",
    ")"
   ]
  },
  {
   "cell_type": "code",
   "execution_count": 27,
   "id": "92ee6660",
   "metadata": {},
   "outputs": [
    {
     "name": "stdout",
     "output_type": "stream",
     "text": [
      "Q: What was Ada Lovelace's contribution to computer programming?\n",
      "A: Ada Lovelace is often regarded as the world's first computer programmer. She published the first algorithm intended to be processed by a machine (the Analytical Engine) to compute Bernoulli numbers. Her notes also anticipated future computing possibilities beyond calculation, such as music and graphics.\n"
     ]
    }
   ],
   "source": [
    "# Answer a single question using the RAG system\n",
    "question = \"What was Ada Lovelace's contribution to computer programming?\"\n",
    "response = rag_chain.invoke(question)\n",
    "print(f\"Q: {question}\")\n",
    "print(f\"A: {response}\")"
   ]
  },
  {
   "cell_type": "code",
   "execution_count": 28,
   "id": "9e011f70",
   "metadata": {},
   "outputs": [
    {
     "name": "stdout",
     "output_type": "stream",
     "text": [
      "\n",
      "Q1: What was Ada Lovelace's contribution to computer programming?\n",
      "----------------------------------------\n",
      "A1: Ada Lovelace is regarded as the world’s first computer programmer. She published an algorithm for Charles Babbage’s Analytical Engine to compute Bernoulli numbers, essentially the first published computer program. Her notes also foresaw broader computing possibilities beyond pure calculation, such as music and graphics.\n",
      "\n",
      "Q2: How did Einstein develop his theory of relativity?\n",
      "----------------------------------------\n",
      "A2: - He published the special theory of relativity in 1905. \n",
      "- He then expanded it to the general theory of relativity in 1915. \n",
      "- These theories revolutionized our understanding of space, time, gravity, and the universe.\n",
      "\n",
      "Q3: What was Newton's most important discovery?\n",
      "----------------------------------------\n",
      "A3: Newton’s most important discovery is the law of universal gravitation. It states that all bodies attract each other with a force proportional to the product of their masses and inversely proportional to the square of the distance between them. This, along with his laws of motion, laid the foundations of classical mechanics.\n"
     ]
    }
   ],
   "source": [
    "# Sample questions for testing\n",
    "questions = [\n",
    "    \"What was Ada Lovelace's contribution to computer programming?\",\n",
    "    \"How did Einstein develop his theory of relativity?\",\n",
    "    \"What was Newton's most important discovery?\"\n",
    "]\n",
    "\n",
    "# Answer multiple questions using the RAG system\n",
    "\n",
    "for i, question in enumerate(questions, 1):\n",
    "    print(f\"\\nQ{i}: {question}\")\n",
    "    print(\"-\" * 40)\n",
    "    response = rag_chain.invoke(question)\n",
    "    print(f\"A{i}: {response}\")"
   ]
  },
  {
   "cell_type": "code",
   "execution_count": null,
   "id": "1bd8f1f6",
   "metadata": {},
   "outputs": [],
   "source": []
  },
  {
   "cell_type": "markdown",
   "id": "8864f450",
   "metadata": {},
   "source": [
    "Jaki mamy tutaj problem? Mamy stworzony embedding dla **całego dokumentu**. W promptcie, jako `{context}` podawana jest cała zawartość pliku, co generuje dużo tokenów wejściowych.\n",
    "\n",
    "Rozwiązanie: Trzymanie w wektorowej bazie danych tzw. chunków, a nie całych dokumentów.\n",
    "\n",
    "Zadanie: Samodzielne uruchomienie i analiza skryptu `2. minimal_rag_wtih_chunking.py`."
   ]
  },
  {
   "cell_type": "code",
   "execution_count": null,
   "id": "cd1cd73a",
   "metadata": {},
   "outputs": [],
   "source": []
  }
 ],
 "metadata": {
  "kernelspec": {
   "display_name": ".venv",
   "language": "python",
   "name": "python3"
  },
  "language_info": {
   "codemirror_mode": {
    "name": "ipython",
    "version": 3
   },
   "file_extension": ".py",
   "mimetype": "text/x-python",
   "name": "python",
   "nbconvert_exporter": "python",
   "pygments_lexer": "ipython3",
   "version": "3.10.12"
  }
 },
 "nbformat": 4,
 "nbformat_minor": 5
}
