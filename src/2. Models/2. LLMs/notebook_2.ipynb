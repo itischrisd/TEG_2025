{
 "cells": [
  {
   "cell_type": "markdown",
   "id": "429a0a09",
   "metadata": {},
   "source": [
    "# LLMs"
   ]
  },
  {
   "cell_type": "markdown",
   "id": "b07eaabb",
   "metadata": {},
   "source": [
    "## 1. OpenAI client"
   ]
  },
  {
   "cell_type": "code",
   "execution_count": null,
   "id": "db433a7d",
   "metadata": {},
   "outputs": [
    {
     "data": {
      "text/plain": [
       "True"
      ]
     },
     "execution_count": 2,
     "metadata": {},
     "output_type": "execute_result"
    }
   ],
   "source": [
    "import textwrap\n",
    "from openai import AzureOpenAI\n",
    "from dotenv import load_dotenv\n",
    "\n",
    "# Use override=True to ensure project-specific settings take precedence\n",
    "load_dotenv(override=True)"
   ]
  },
  {
   "cell_type": "code",
   "execution_count": 3,
   "id": "ff3053bd",
   "metadata": {},
   "outputs": [
    {
     "name": "stdout",
     "output_type": "stream",
     "text": [
      "Sunlight looks white, but it’s actually a mix of colors. When it hits Earth’s atmosphere, it collides with gas molecules and gets scattered in many directions. This scattering is stronger for shorter wavelengths (blue and violet) than for longer wavelengths (red and yellow).\n",
      "\n",
      "Our eyes see blue most of the time because:\n",
      "- Blue light is scattered in all directions by the air molecules (Rayleigh scattering), so wherever you look in the sky, you see blue light coming from many different directions.\n",
      "- Violet light is scattered even more, but our atmosphere absorbs much of it and our eyes are more sensitive to blue.\n",
      "\n",
      "Why the sky isn’t violet still:\n",
      "- The violet component is weak at the angles we look, and the atmosphere absorbs a lot of violet.\n",
      "- The sun also emits less violet than blue, and the combination makes the sky appear blue.\n",
      "\n",
      "Why the sky changes color at sunrise/sunset:\n",
      "- The sun’s light has to pass through more of the atmosphere, so even more blue light is scattered out of your line of sight. What you see are the colors of the remaining light, often reds and oranges.\n",
      "\n",
      "In short: Rayleigh scattering of sunlight by the atmosphere makes the sky look blue most of the time; other factors like time of day and aerosols can alter the hue.\n"
     ]
    }
   ],
   "source": [
    "# Initialize OpenAI client - this creates our connection to the LLM service\n",
    "client = AzureOpenAI()\n",
    "\n",
    "system_prompt = \"You are a helpful assistant who explains concepts clearly and concisely.\"\n",
    "question = \"Why is the sky blue?\"\n",
    "\n",
    "messages = [\n",
    "    {\"role\": \"system\", \"content\": system_prompt},\n",
    "    {\"role\": \"user\", \"content\": question}\n",
    "]\n",
    "\n",
    "response = client.chat.completions.create(\n",
    "    model=\"gpt-5-nano\",\n",
    "    messages=messages\n",
    ")\n",
    "answer = response.choices[0].message.content.strip()\n",
    "print(answer)"
   ]
  },
  {
   "cell_type": "code",
   "execution_count": 5,
   "id": "8148ea3a",
   "metadata": {},
   "outputs": [
    {
     "name": "stdout",
     "output_type": "stream",
     "text": [
      "=== Response Object Analysis ===\n",
      "\n",
      "1. Response Object Type:\n",
      "   <class 'openai.types.chat.chat_completion.ChatCompletion'>\n",
      "\n",
      "2. Response ID:\n",
      "   chatcmpl-CRdjXUKGhTjQRPUrRjoIYpNlqjhEz\n",
      "\n",
      "3. Model Used:\n",
      "   gpt-5-nano-2025-08-07\n",
      "\n",
      "4. Full Response Object:\n",
      "   ChatCompletion(id='chatcmpl-CRdjXUKGhTjQRPUrRjoIYpNlqjhEz', choices=[Choice(finish_reason='stop', index=0, logprobs=None, message=ChatCompletionMessage(content='Sunlight looks white, but it’s actually a mix of colors. When it hits Earth’s atmosphere, it collides with gas molecules and gets scattered in many directions. This scattering is stronger for shorter wavelengths (blue and violet) than for longer wavelengths (red and yellow).\\n\\nOur eyes see blue most of the time because:\\n- Blue light is scattered in all directions by the air molecules (Rayleigh scattering), so wherever you look in the sky, you see blue light coming from many different directions.\\n- Violet light is scattered even more, but our atmosphere absorbs much of it and our eyes are more sensitive to blue.\\n\\nWhy the sky isn’t violet still:\\n- The violet component is weak at the angles we look, and the atmosphere absorbs a lot of violet.\\n- The sun also emits less violet than blue, and the combination makes the sky appear blue.\\n\\nWhy the sky changes color at sunrise/sunset:\\n- The sun’s light has to pass through more of the atmosphere, so even more blue light is scattered out of your line of sight. What you see are the colors of the remaining light, often reds and oranges.\\n\\nIn short: Rayleigh scattering of sunlight by the atmosphere makes the sky look blue most of the time; other factors like time of day and aerosols can alter the hue.', refusal=None, role='assistant', annotations=[], audio=None, function_call=None, tool_calls=None), content_filter_results={'hate': {'filtered': False, 'severity': 'safe'}, 'protected_material_code': {'filtered': False, 'detected': False}, 'protected_material_text': {'filtered': False, 'detected': False}, 'self_harm': {'filtered': False, 'severity': 'safe'}, 'sexual': {'filtered': False, 'severity': 'safe'}, 'violence': {'filtered': False, 'severity': 'safe'}})], created=1760703627, model='gpt-5-nano-2025-08-07', object='chat.completion', service_tier=None, system_fingerprint=None, usage=CompletionUsage(completion_tokens=847, prompt_tokens=30, total_tokens=877, completion_tokens_details=CompletionTokensDetails(accepted_prediction_tokens=0, audio_tokens=0, reasoning_tokens=576, rejected_prediction_tokens=0), prompt_tokens_details=PromptTokensDetails(audio_tokens=0, cached_tokens=0)), prompt_filter_results=[{'prompt_index': 0, 'content_filter_results': {'hate': {'filtered': False, 'severity': 'safe'}, 'jailbreak': {'filtered': False, 'detected': False}, 'self_harm': {'filtered': False, 'severity': 'safe'}, 'sexual': {'filtered': False, 'severity': 'safe'}, 'violence': {'filtered': False, 'severity': 'safe'}}}])\n",
      "\n",
      "5. Choices Array:\n",
      "   [Choice(finish_reason='stop', index=0, logprobs=None, message=ChatCompletionMessage(content='Sunlight looks white, but it’s actually a mix of colors. When it hits Earth’s atmosphere, it collides with gas molecules and gets scattered in many directions. This scattering is stronger for shorter wavelengths (blue and violet) than for longer wavelengths (red and yellow).\\n\\nOur eyes see blue most of the time because:\\n- Blue light is scattered in all directions by the air molecules (Rayleigh scattering), so wherever you look in the sky, you see blue light coming from many different directions.\\n- Violet light is scattered even more, but our atmosphere absorbs much of it and our eyes are more sensitive to blue.\\n\\nWhy the sky isn’t violet still:\\n- The violet component is weak at the angles we look, and the atmosphere absorbs a lot of violet.\\n- The sun also emits less violet than blue, and the combination makes the sky appear blue.\\n\\nWhy the sky changes color at sunrise/sunset:\\n- The sun’s light has to pass through more of the atmosphere, so even more blue light is scattered out of your line of sight. What you see are the colors of the remaining light, often reds and oranges.\\n\\nIn short: Rayleigh scattering of sunlight by the atmosphere makes the sky look blue most of the time; other factors like time of day and aerosols can alter the hue.', refusal=None, role='assistant', annotations=[], audio=None, function_call=None, tool_calls=None), content_filter_results={'hate': {'filtered': False, 'severity': 'safe'}, 'protected_material_code': {'filtered': False, 'detected': False}, 'protected_material_text': {'filtered': False, 'detected': False}, 'self_harm': {'filtered': False, 'severity': 'safe'}, 'sexual': {'filtered': False, 'severity': 'safe'}, 'violence': {'filtered': False, 'severity': 'safe'}})]\n",
      "\n",
      "6. First Choice Object:\n",
      "   Choice(finish_reason='stop', index=0, logprobs=None, message=ChatCompletionMessage(content='Sunlight looks white, but it’s actually a mix of colors. When it hits Earth’s atmosphere, it collides with gas molecules and gets scattered in many directions. This scattering is stronger for shorter wavelengths (blue and violet) than for longer wavelengths (red and yellow).\\n\\nOur eyes see blue most of the time because:\\n- Blue light is scattered in all directions by the air molecules (Rayleigh scattering), so wherever you look in the sky, you see blue light coming from many different directions.\\n- Violet light is scattered even more, but our atmosphere absorbs much of it and our eyes are more sensitive to blue.\\n\\nWhy the sky isn’t violet still:\\n- The violet component is weak at the angles we look, and the atmosphere absorbs a lot of violet.\\n- The sun also emits less violet than blue, and the combination makes the sky appear blue.\\n\\nWhy the sky changes color at sunrise/sunset:\\n- The sun’s light has to pass through more of the atmosphere, so even more blue light is scattered out of your line of sight. What you see are the colors of the remaining light, often reds and oranges.\\n\\nIn short: Rayleigh scattering of sunlight by the atmosphere makes the sky look blue most of the time; other factors like time of day and aerosols can alter the hue.', refusal=None, role='assistant', annotations=[], audio=None, function_call=None, tool_calls=None), content_filter_results={'hate': {'filtered': False, 'severity': 'safe'}, 'protected_material_code': {'filtered': False, 'detected': False}, 'protected_material_text': {'filtered': False, 'detected': False}, 'self_harm': {'filtered': False, 'severity': 'safe'}, 'sexual': {'filtered': False, 'severity': 'safe'}, 'violence': {'filtered': False, 'severity': 'safe'}})\n",
      "\n",
      "7. Message Object:\n",
      "   ChatCompletionMessage(content='Sunlight looks white, but it’s actually a mix of colors. When it hits Earth’s atmosphere, it collides with gas molecules and gets scattered in many directions. This scattering is stronger for shorter wavelengths (blue and violet) than for longer wavelengths (red and yellow).\\n\\nOur eyes see blue most of the time because:\\n- Blue light is scattered in all directions by the air molecules (Rayleigh scattering), so wherever you look in the sky, you see blue light coming from many different directions.\\n- Violet light is scattered even more, but our atmosphere absorbs much of it and our eyes are more sensitive to blue.\\n\\nWhy the sky isn’t violet still:\\n- The violet component is weak at the angles we look, and the atmosphere absorbs a lot of violet.\\n- The sun also emits less violet than blue, and the combination makes the sky appear blue.\\n\\nWhy the sky changes color at sunrise/sunset:\\n- The sun’s light has to pass through more of the atmosphere, so even more blue light is scattered out of your line of sight. What you see are the colors of the remaining light, often reds and oranges.\\n\\nIn short: Rayleigh scattering of sunlight by the atmosphere makes the sky look blue most of the time; other factors like time of day and aerosols can alter the hue.', refusal=None, role='assistant', annotations=[], audio=None, function_call=None, tool_calls=None)\n",
      "\n",
      "9. Usage Statistics:\n",
      "   CompletionUsage(completion_tokens=847, prompt_tokens=30, total_tokens=877, completion_tokens_details=CompletionTokensDetails(accepted_prediction_tokens=0, audio_tokens=0, reasoning_tokens=576, rejected_prediction_tokens=0), prompt_tokens_details=PromptTokensDetails(audio_tokens=0, cached_tokens=0))\n",
      "\n"
     ]
    }
   ],
   "source": [
    "# Analyze the response object structure\n",
    "print(\"=== Response Object Analysis ===\")\n",
    "print()\n",
    "\n",
    "print(\"1. Response Object Type:\")\n",
    "print(f\"   {type(response)}\")\n",
    "print()\n",
    "\n",
    "print(\"2. Response ID:\")\n",
    "print(f\"   {response.id}\")\n",
    "print()\n",
    "\n",
    "print(\"3. Model Used:\")\n",
    "print(f\"   {response.model}\")\n",
    "print()\n",
    "\n",
    "print(\"4. Full Response Object:\")\n",
    "print(f\"   {response}\")\n",
    "print()\n",
    "\n",
    "print(\"5. Choices Array:\")\n",
    "print(f\"   {response.choices}\")\n",
    "print()\n",
    "\n",
    "print(\"6. First Choice Object:\")\n",
    "print(f\"   {response.choices[0]}\")\n",
    "print()\n",
    "\n",
    "print(\"7. Message Object:\")\n",
    "print(f\"   {response.choices[0].message}\")\n",
    "print()\n",
    "\n",
    "# print(\"8. Message Content:\")\n",
    "# print(f\"   {response.choices[0].message.content}\")\n",
    "# print()\n",
    "\n",
    "print(\"9. Usage Statistics:\")\n",
    "print(f\"   {response.usage}\")\n",
    "print()"
   ]
  },
  {
   "cell_type": "code",
   "execution_count": null,
   "id": "c183bc7d",
   "metadata": {},
   "outputs": [
    {
     "data": {
      "text/plain": [
       "{'id': 'chatcmpl-CRdjXUKGhTjQRPUrRjoIYpNlqjhEz',\n",
       " 'choices': [Choice(finish_reason='stop', index=0, logprobs=None, message=ChatCompletionMessage(content='Sunlight looks white, but it’s actually a mix of colors. When it hits Earth’s atmosphere, it collides with gas molecules and gets scattered in many directions. This scattering is stronger for shorter wavelengths (blue and violet) than for longer wavelengths (red and yellow).\\n\\nOur eyes see blue most of the time because:\\n- Blue light is scattered in all directions by the air molecules (Rayleigh scattering), so wherever you look in the sky, you see blue light coming from many different directions.\\n- Violet light is scattered even more, but our atmosphere absorbs much of it and our eyes are more sensitive to blue.\\n\\nWhy the sky isn’t violet still:\\n- The violet component is weak at the angles we look, and the atmosphere absorbs a lot of violet.\\n- The sun also emits less violet than blue, and the combination makes the sky appear blue.\\n\\nWhy the sky changes color at sunrise/sunset:\\n- The sun’s light has to pass through more of the atmosphere, so even more blue light is scattered out of your line of sight. What you see are the colors of the remaining light, often reds and oranges.\\n\\nIn short: Rayleigh scattering of sunlight by the atmosphere makes the sky look blue most of the time; other factors like time of day and aerosols can alter the hue.', refusal=None, role='assistant', annotations=[], audio=None, function_call=None, tool_calls=None), content_filter_results={'hate': {'filtered': False, 'severity': 'safe'}, 'protected_material_code': {'filtered': False, 'detected': False}, 'protected_material_text': {'filtered': False, 'detected': False}, 'self_harm': {'filtered': False, 'severity': 'safe'}, 'sexual': {'filtered': False, 'severity': 'safe'}, 'violence': {'filtered': False, 'severity': 'safe'}})],\n",
       " 'created': 1760703627,\n",
       " 'model': 'gpt-5-nano-2025-08-07',\n",
       " 'object': 'chat.completion',\n",
       " 'service_tier': None,\n",
       " 'system_fingerprint': None,\n",
       " 'usage': CompletionUsage(completion_tokens=847, prompt_tokens=30, total_tokens=877, completion_tokens_details=CompletionTokensDetails(accepted_prediction_tokens=0, audio_tokens=0, reasoning_tokens=576, rejected_prediction_tokens=0), prompt_tokens_details=PromptTokensDetails(audio_tokens=0, cached_tokens=0)),\n",
       " '_request_id': '3dd5f750-f1a6-46e8-bc68-13a4865564e1'}"
      ]
     },
     "execution_count": 6,
     "metadata": {},
     "output_type": "execute_result"
    }
   ],
   "source": [
    "response.__dict__"
   ]
  },
  {
   "cell_type": "code",
   "execution_count": 7,
   "id": "395b0687",
   "metadata": {},
   "outputs": [
    {
     "name": "stdout",
     "output_type": "stream",
     "text": [
      "=== Detailed Usage Statistics ===\n",
      "Prompt tokens: 30\n",
      "Completion tokens: 847\n",
      "Total tokens: 877\n",
      "Reasoning tokens: 576\n",
      "Audio tokens: 0\n",
      "\n",
      "============================================================\n",
      "Note: The response object contains rich metadata that can be used\n",
      "for monitoring, logging, and understanding API usage patterns.\n"
     ]
    }
   ],
   "source": [
    "# Display usage statistics in a more readable format\n",
    "if response.usage:\n",
    "    print(\"=== Detailed Usage Statistics ===\")\n",
    "    print(f\"Prompt tokens: {response.usage.prompt_tokens}\")\n",
    "    print(f\"Completion tokens: {response.usage.completion_tokens}\")\n",
    "    print(f\"Total tokens: {response.usage.total_tokens}\")\n",
    "    \n",
    "    # Check if detailed usage information is available\n",
    "    if hasattr(response.usage, 'completion_tokens_details'):\n",
    "        details = response.usage.completion_tokens_details\n",
    "        print(f\"Reasoning tokens: {details.reasoning_tokens}\")\n",
    "        print(f\"Audio tokens: {details.audio_tokens}\")\n",
    "\n",
    "print(\"\\n\" + \"=\"*60)\n",
    "print(\"Note: The response object contains rich metadata that can be used\")\n",
    "print(\"for monitoring, logging, and understanding API usage patterns.\")"
   ]
  },
  {
   "cell_type": "code",
   "execution_count": null,
   "id": "d457e582",
   "metadata": {},
   "outputs": [],
   "source": []
  },
  {
   "cell_type": "markdown",
   "id": "7bfee75b",
   "metadata": {},
   "source": [
    "# 2. Claude"
   ]
  },
  {
   "cell_type": "code",
   "execution_count": 8,
   "id": "c54b0542",
   "metadata": {},
   "outputs": [],
   "source": [
    "from dotenv import load_dotenv\n",
    "import os\n",
    "import textwrap\n",
    "import anthropic\n",
    "\n",
    "# Load environment variables from .env file\n",
    "load_dotenv(override=True)\n",
    "\n",
    "# Initialize the Anthropic client with API key from environment\n",
    "api_key = os.getenv('ANTHROPIC_API_KEY')"
   ]
  },
  {
   "cell_type": "code",
   "execution_count": 9,
   "id": "fbd7e2ef",
   "metadata": {},
   "outputs": [],
   "source": [
    "client = anthropic.Anthropic(api_key=api_key)"
   ]
  },
  {
   "cell_type": "code",
   "execution_count": null,
   "id": "d9426139",
   "metadata": {},
   "outputs": [],
   "source": [
    "# Setup the system prompt and question\n",
    "prompt = \"\"\"\n",
    "You are a friendly assistant answering users' questions. You respond in corporate slang with many anglicisms.\"\"\"\n",
    "\n",
    "question = \"Why is the sky blue?\"\n",
    "\n",
    "# Make the API call to Claude\n",
    "response = client.messages.create(\n",
    "    model=\"claude-sonnet-4-20250514\",  # Remember to update to current model\n",
    "    max_tokens=1000,\n",
    "    temperature=1,\n",
    "    system=prompt,\n",
    "    messages=[\n",
    "        {\n",
    "            \"role\": \"user\",\n",
    "            \"content\": [\n",
    "                {\n",
    "                    \"type\": \"text\",\n",
    "                    \"text\": question\n",
    "                }\n",
    "            ]\n",
    "        }\n",
    "    ]\n",
    ")"
   ]
  },
  {
   "cell_type": "code",
   "execution_count": null,
   "id": "27c60c1b",
   "metadata": {},
   "outputs": [],
   "source": [
    "# Analyze the response object structure\n",
    "print(\"=== Response Object Analysis ===\")\n",
    "print()\n",
    "\n",
    "print(\"1. Response Object Type:\")\n",
    "print(f\"   {type(response)}\")\n",
    "print()\n",
    "\n",
    "print(\"2. Full Response Object:\")\n",
    "print(f\"   {response}\")\n",
    "print()\n",
    "\n",
    "print(\"3. Model Used:\")\n",
    "print(f\"   {response.model}\")\n",
    "print()\n",
    "\n",
    "print(\"4. Content Array:\")\n",
    "print(f\"   {response.content}\")\n",
    "print()\n",
    "\n",
    "print(\"5. First Content Block Text:\")\n",
    "print(f\"   {response.content[0].text}\")\n",
    "print()\n",
    "\n",
    "print(\"6. Usage Statistics:\")\n",
    "print(f\"   {response.usage}\")\n",
    "print()\n",
    "\n",
    "# Display usage statistics in a readable format\n",
    "if response.usage:\n",
    "    print(\"=== Detailed Usage Statistics ===\")\n",
    "    print(f\"Input tokens: {response.usage.input_tokens}\")\n",
    "    print(f\"Output tokens: {response.usage.output_tokens}\")\n",
    "    total = response.usage.input_tokens + response.usage.output_tokens\n",
    "    print(f\"Total tokens: {total}\")\n",
    "\n",
    "print(\"\\n\" + \"=\"*60)\n",
    "print(\"Note: Claude API structure differs from OpenAI:\")\n",
    "print(\"- Uses 'messages.create()' instead of 'chat.completions.create()'\")\n",
    "print(\"- Content is in 'content[0].text' instead of 'choices[0].message.content'\")\n",
    "print(\"- System prompt is a separate parameter, not part of messages\")\n",
    "print(\"- Usage statistics have different field names\")"
   ]
  },
  {
   "cell_type": "code",
   "execution_count": null,
   "id": "c991bd28",
   "metadata": {},
   "outputs": [],
   "source": []
  },
  {
   "cell_type": "markdown",
   "id": "bbf2ea91",
   "metadata": {},
   "source": [
    "# 3. LangChain framework"
   ]
  },
  {
   "cell_type": "code",
   "execution_count": 18,
   "id": "3766a5e3",
   "metadata": {},
   "outputs": [
    {
     "data": {
      "text/plain": [
       "True"
      ]
     },
     "execution_count": 18,
     "metadata": {},
     "output_type": "execute_result"
    }
   ],
   "source": [
    "from dotenv import load_dotenv\n",
    "import os\n",
    "from anthropic import Anthropic\n",
    "from langchain_openai import AzureChatOpenAI\n",
    "from langchain_anthropic import ChatAnthropic\n",
    "\n",
    "\n",
    "# Load environment variables from .env file\n",
    "load_dotenv(override=True)"
   ]
  },
  {
   "cell_type": "code",
   "execution_count": 19,
   "id": "baad3688",
   "metadata": {},
   "outputs": [
    {
     "name": "stdout",
     "output_type": "stream",
     "text": [
      "The sky appears blue primarily due to a phenomenon called Rayleigh scattering. Here's how it works:\n",
      "\n",
      "1. **Sunlight Composition**: Sunlight (or white light) is made up of many colors, each with different wavelengths. Blue light has a shorter wavelength, while red light has a longer wavelength.\n",
      "\n",
      "2. **Earth’s Atmosphere**: As sunlight enters Earth's atmosphere, it collides with air molecules and tiny particles. The shorter wavelengths (blue and violet light) are scattered in all directions much more than the longer wavelengths (red, orange, yellow).\n",
      "\n",
      "3. **Human Perception**: Although both blue and violet light are scattered, our eyes are more sensitive to blue light and less sensitive to violet light. Additionally, some of the violet light is absorbed by the ozone layer in the atmosphere. As a result, we perceive the sky as blue.\n",
      "\n",
      "During sunrise and sunset, the sun's light must pass through a larger portion of the atmosphere, causing more scattering of the shorter wavelengths and allowing the longer wavelengths (reds and oranges) to dominate, which is why the sky can appear red or orange at those times.\n"
     ]
    }
   ],
   "source": [
    "# OpenAI GPT model via LangChain\n",
    "llm = AzureChatOpenAI(model=\"gpt-4o-mini\")\n",
    "question = \"Why is the sky blue?\"\n",
    "response = llm.invoke(question)\n",
    "print(response.content)"
   ]
  },
  {
   "cell_type": "code",
   "execution_count": null,
   "id": "25fe006b",
   "metadata": {},
   "outputs": [],
   "source": [
    "# Claude model via LangChain\n",
    "api_key = os.getenv('ANTHROPIC_API_KEY')\n",
    "llm = ChatAnthropic(model=\"claude-3-5-sonnet-20241022\", anthropic_api_key=api_key)\n",
    "question = \"Why is the sky blue?\"\n",
    "response = llm.invoke(question)\n",
    "print(response.content)"
   ]
  },
  {
   "cell_type": "code",
   "execution_count": null,
   "id": "8c612bdd",
   "metadata": {},
   "outputs": [],
   "source": []
  },
  {
   "cell_type": "markdown",
   "id": "ecf17c5d",
   "metadata": {},
   "source": [
    "## Zadanie\n",
    "\n",
    "Przetestować połączenie z lokalnymi modelami LLM poprzez Ollama przy użyciu bilbioteki LangChain.\n",
    "\n",
    "https://ollama.com/download/linux\n",
    "\n",
    "https://ollama.com/library/gemma3:1b"
   ]
  },
  {
   "cell_type": "code",
   "execution_count": null,
   "id": "b352c168",
   "metadata": {},
   "outputs": [],
   "source": []
  },
  {
   "cell_type": "markdown",
   "id": "d1c432f0",
   "metadata": {},
   "source": [
    "Dokumentacja LangChain:\n",
    "\n",
    "https://docs.langchain.com/oss/python/langchain/overview"
   ]
  },
  {
   "cell_type": "code",
   "execution_count": null,
   "id": "67ae57cf",
   "metadata": {},
   "outputs": [],
   "source": []
  },
  {
   "cell_type": "code",
   "execution_count": null,
   "id": "7e9b6afe",
   "metadata": {},
   "outputs": [],
   "source": []
  }
 ],
 "metadata": {
  "kernelspec": {
   "display_name": ".venv",
   "language": "python",
   "name": "python3"
  },
  "language_info": {
   "codemirror_mode": {
    "name": "ipython",
    "version": 3
   },
   "file_extension": ".py",
   "mimetype": "text/x-python",
   "name": "python",
   "nbconvert_exporter": "python",
   "pygments_lexer": "ipython3",
   "version": "3.10.12"
  }
 },
 "nbformat": 4,
 "nbformat_minor": 5
}
